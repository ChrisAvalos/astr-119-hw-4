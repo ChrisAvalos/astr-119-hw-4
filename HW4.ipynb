{
 "cells": [
  {
   "cell_type": "code",
   "execution_count": 185,
   "metadata": {},
   "outputs": [],
   "source": [
    "%matplotlib inline\n",
    "import numpy as np\n",
    "import matplotlib.pyplot as plt\n",
    "from scipy.optimize import fsolve"
   ]
  },
  {
   "cell_type": "code",
   "execution_count": 186,
   "metadata": {},
   "outputs": [],
   "source": [
    "def function_for_roots(x):\n",
    "    return 1.01*x**2 - 3.04*x + 2.07\n"
   ]
  },
  {
   "cell_type": "code",
   "execution_count": 187,
   "metadata": {},
   "outputs": [],
   "source": [
    "def check_initial_values(f, x_min, x_max, tol):\n",
    "    y_min = f(x_min)\n",
    "    y_max = f(x_max)\n",
    "    \n",
    "    if(y_min*y_max>=0):\n",
    "        print(\"No zero crossing found in the range =\", x_min, x_max)\n",
    "        s = \"f(%f) = %f, f(%f) = %f\" % (x_min, y_min, x_max, y_max)\n",
    "        print(s)\n",
    "        return 0\n",
    "    \n",
    "    if(np.fabs(y_min)<tol):\n",
    "        return 1\n",
    "    \n",
    "    if(np.fabs(y_max)<tol):\n",
    "        return 2\n",
    "    \n",
    "    return 3"
   ]
  },
  {
   "cell_type": "code",
   "execution_count": 188,
   "metadata": {},
   "outputs": [],
   "source": [
    "def bisection_root_finding(f, x_min_start, x_max_start, tol):\n",
    "    \n",
    "    x_min = x_min_start\n",
    "    x_max = x_max_start\n",
    "    x_mid = 0.0\n",
    "    \n",
    "    imax = 10000\n",
    "    i = 0\n",
    "    \n",
    "    flag = check_initial_values(f, x_min, x_max, tol)\n",
    "    if (flag==0):\n",
    "        print(\"Error in finding bisection_root_finding().\")\n",
    "        raise ValueError('Initial values invalid', x_min, x_max)\n",
    "    elif (flag==1):\n",
    "        return x_min\n",
    "    elif (flag==2):\n",
    "        return x_max\n",
    "    \n",
    "    flag = 1\n",
    "    while(flag):\n",
    "        x_mid = 0.5*(x_min+x_max)\n",
    "        y_mid = f(x_mid)\n",
    "        \n",
    "        \n",
    "        if(np.fabs(y_mid)<tol):\n",
    "            flag = 0 \n",
    "        else:\n",
    "            \n",
    "            if(f(x_min)*f(x_mid)>0):\n",
    "                x_min = x_mid\n",
    "            else:\n",
    "                x_max = x_mid\n",
    "                \n",
    "        print(x_min, f(x_min), x_max, f(x_max))\n",
    "        \n",
    "        i += 1\n",
    "        \n",
    "        \n",
    "        if(i>=imax):\n",
    "            print(\"Exceeded max number of iterations = \", i)\n",
    "            s = \"Min bracket f(%f) = %f\" % (x_min, f(x_min))\n",
    "            print(s) \n",
    "            s = \"Max bracket f(%f) = %f\" % (x_max, f(x_max)) \n",
    "            print(s)\n",
    "            s = \"Mid bracket f(%f) = %f\" % (x_mid, f(x_mid))\n",
    "            print(s)\n",
    "            raise StopIteration('Stopping iterations after ',i)\n",
    "        \n",
    "    s = f\"Total iterations until root found: {i}\"\n",
    "    print(s)\n",
    "        \n",
    "    return x_mid"
   ]
  },
  {
   "cell_type": "code",
   "execution_count": 189,
   "metadata": {},
   "outputs": [
    {
     "name": "stdout",
     "output_type": "stream",
     "text": [
      "0.2 1.5023999999999997\n",
      "1.2 -0.12360000000000015\n",
      "0.7 0.43690000000000007 1.2 -0.12360000000000015\n",
      "0.95 0.09352500000000008 1.2 -0.12360000000000015\n",
      "0.95 0.09352500000000008 1.075 -0.03081875000000034\n",
      "1.0125 0.027407812499999906 1.075 -0.03081875000000034\n",
      "1.0125 0.027407812499999906 1.04375 -0.0026917968750002075\n",
      "1.028125 0.012111425781249796 1.04375 -0.0026917968750002075\n",
      "1.0359375 0.004648168945312392 1.04375 -0.0026917968750002075\n",
      "1.03984375 0.0009627746582032692 1.04375 -0.0026917968750002075\n",
      "1.03984375 0.0009627746582032692 1.041796875 -0.0008683639526370079\n",
      "1.0408203125 4.62421417237735e-05 1.041796875 -0.0008683639526370079\n",
      "1.0408203125 4.62421417237735e-05 1.04130859375 -0.00041130170822123446\n",
      "1.0408203125 4.62421417237735e-05 1.041064453125 -0.00018258998394005133\n",
      "1.0408203125 4.62421417237735e-05 1.0409423828125 -6.818897128146872e-05\n",
      "1.0408203125 4.62421417237735e-05 1.04088134765625 -1.0977177321791487e-05\n",
      "1.040850830078125 1.7631541564977482e-05 1.04088134765625 -1.0977177321791487e-05\n",
      "1.0408660888671875 3.3269469619234826e-06 1.04088134765625 -1.0977177321791487e-05\n",
      "1.0408660888671875 3.3269469619234826e-06 1.0408737182617187 -3.825173969573825e-06\n",
      "1.0408660888671875 3.3269469619234826e-06 1.0408737182617187 -3.825173969573825e-06\n",
      "Total iterations until root found: 18\n",
      "Root Found with y(1.040870) = -0.000000\n"
     ]
    }
   ],
   "source": [
    "x_min = 0.2\n",
    "x_max = 1.2\n",
    "tolerance = 1.0e-6\n",
    "\n",
    "print(x_min, function_for_roots(x_min))\n",
    "print(x_max, function_for_roots(x_max))\n",
    "\n",
    "x_root = bisection_root_finding(function_for_roots, x_min, x_max, tolerance)\n",
    "y_root = function_for_roots(x_root)\n",
    "\n",
    "s= \"Root Found with y(%f) = %f\" % (x_root, y_root)\n",
    "\n",
    "print(s)\n"
   ]
  },
  {
   "cell_type": "code",
   "execution_count": 190,
   "metadata": {
    "scrolled": true
   },
   "outputs": [
    {
     "name": "stdout",
     "output_type": "stream",
     "text": [
      "1.8 -0.12960000000000038\n",
      "2.8 1.4764000000000004\n",
      "1.8 -0.12960000000000038 2.3 0.42090000000000005\n",
      "1.8 -0.12960000000000038 2.05 0.08252499999999996\n",
      "1.9249999999999998 -0.03931875000000007 2.05 0.08252499999999996\n",
      "1.9249999999999998 -0.03931875000000007 1.9874999999999998 0.017657812499999093\n",
      "1.9562499999999998 -0.011816796874999813 1.9874999999999998 0.017657812499999093\n",
      "1.9562499999999998 -0.011816796874999813 1.9718749999999998 0.0026739257812495865\n",
      "1.9640624999999998 -0.00463308105468796 1.9718749999999998 0.0026739257812495865\n",
      "1.9679687499999998 -0.0009949890136726758 1.9718749999999998 0.0026739257812495865\n",
      "1.9679687499999998 -0.0009949890136726758 1.9699218749999998 0.0008356155395503606\n",
      "1.9689453124999998 -8.064994812029269e-05 1.9699218749999998 0.0008356155395503606\n",
      "1.9689453124999998 -8.064994812029269e-05 1.9694335937499998 0.0003772419929504167\n",
      "1.9689453124999998 -8.064994812029269e-05 1.9691894531249998 0.00014823582172329708\n",
      "1.9689453124999998 -8.064994812029269e-05 1.9690673828124998 3.377788662861647e-05\n",
      "1.9690063476562498 -2.343979328855994e-05 1.9690673828124998 3.377788662861647e-05\n",
      "1.9690063476562498 -2.343979328855994e-05 1.9690368652343748 5.1681060337926965e-06\n",
      "1.9690216064453123 -9.136078786387003e-06 1.9690368652343748 5.1681060337926965e-06\n",
      "1.9690292358398436 -1.984045165492887e-06 1.9690368652343748 5.1681060337926965e-06\n",
      "1.9690292358398436 -1.984045165492887e-06 1.9690330505371092 1.5920157365734156e-06\n",
      "1.9690292358398436 -1.984045165492887e-06 1.9690330505371092 1.5920157365734156e-06\n",
      "Total iterations until root found: 19\n",
      "Root Found with y(1.969031) = -0.000000\n"
     ]
    }
   ],
   "source": [
    "x_min2 = 1.8\n",
    "x_max2 = 2.8\n",
    "tolerance = 1.0e-6\n",
    "\n",
    "print(x_min2, function_for_roots(x_min2))\n",
    "print(x_max2, function_for_roots(x_max2))\n",
    "\n",
    "x_root = bisection_root_finding(function_for_roots, x_min2, x_max2, tolerance)\n",
    "y_root = function_for_roots(x_root)\n",
    "\n",
    "s= \"Root Found with y(%f) = %f\" % (x_root, y_root)\n",
    "\n",
    "print(s)\n",
    "\n",
    "\n"
   ]
  },
  {
   "cell_type": "code",
   "execution_count": 191,
   "metadata": {},
   "outputs": [
    {
     "data": {
      "text/plain": [
       "(-0.5, 2.1)"
      ]
     },
     "execution_count": 191,
     "metadata": {},
     "output_type": "execute_result"
    },
    {
     "data": {
      "image/png": "[encoded data removed]",
      "text/plain": [
       "<Figure size 432x288 with 1 Axes>"
      ]
     },
     "metadata": {
      "needs_background": "light"
     },
     "output_type": "display_data"
    }
   ],
   "source": [
    "x = np.linspace(0, 3, num = 1000, dtype=float)\n",
    "y = function_for_roots(x)\n",
    "\n",
    "z = 0*(x)\n",
    "\n",
    "plt.plot([1.0408, 1.969], [0, 0], 'ro')\n",
    "\n",
    "plt.plot(x,y)\n",
    "plt.plot(x,z, linestyle = 'dashed')\n",
    "\n",
    "plt.scatter(x_min, function_for_roots(x_min), color = 'purple')\n",
    "plt.scatter(x_max, function_for_roots(x_max), color = 'purple')\n",
    "plt.scatter(x_min2, function_for_roots(x_min2), color = 'green')\n",
    "plt.scatter(x_max2, function_for_roots(x_max2), color = 'green')\n",
    "\n",
    "ax = plt.gca()\n",
    "ax.set_xlim(0,3)\n",
    "ax.set_ylim(-.5,2.1)"
   ]
  },
  {
   "cell_type": "code",
   "execution_count": null,
   "metadata": {},
   "outputs": [],
   "source": []
  },
  {
   "cell_type": "code",
   "execution_count": null,
   "metadata": {},
   "outputs": [],
   "source": []
  }
 ],
 "metadata": {
  "kernelspec": {
   "display_name": "Python 3",
   "language": "python",
   "name": "python3"
  },
  "language_info": {
   "codemirror_mode": {
    "name": "ipython",
    "version": 3
   },
   "file_extension": ".py",
   "mimetype": "text/x-python",
   "name": "python",
   "nbconvert_exporter": "python",
   "pygments_lexer": "ipython3",
   "version": "3.8.5"
  }
 },
 "nbformat": 4,
 "nbformat_minor": 4
}
